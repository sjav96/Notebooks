{
 "cells": [
  {
   "cell_type": "code",
   "execution_count": 1,
   "id": "74e8b09e-b20a-4aa4-a307-70760fd72d28",
   "metadata": {},
   "outputs": [],
   "source": [
    "%load_ext autoreload\n",
    "%autoreload 2\n",
    "%matplotlib inline"
   ]
  },
  {
   "cell_type": "code",
   "execution_count": 2,
   "id": "65517646-4158-45b8-bcc4-73a0ea810e4c",
   "metadata": {},
   "outputs": [],
   "source": [
    "import torch\n",
    "import torch.nn as nn\n",
    "import torch.optim as optim\n",
    "import numpy as np\n",
    "import pandas as pd\n",
    "import shutil\n",
    "from sklearn.preprocessing import MinMaxScaler\n",
    "from tqdm import tqdm_notebook as tqdm\n",
    "import matplotlib.pyplot as plt\n",
    "\n",
    "from darts import TimeSeries\n",
    "from darts.dataprocessing.transformers import Scaler\n",
    "from darts.models import RNNModel, ExponentialSmoothing, BlockRNNModel\n",
    "from darts.metrics import mape\n",
    "from darts.utils.statistics import check_seasonality, plot_acf\n",
    "from darts.datasets import AirPassengersDataset, SunspotsDataset\n",
    "from darts.utils.timeseries_generation import datetime_attribute_timeseries\n",
    "\n",
    "import warnings\n",
    "import optuna\n",
    "\n",
    "warnings.filterwarnings(\"ignore\")\n",
    "import logging\n",
    "\n",
    "logging.disable(logging.CRITICAL)"
   ]
  },
  {
   "cell_type": "code",
   "execution_count": 3,
   "id": "14ddede4-2bb2-44e7-8024-4ad82384451a",
   "metadata": {},
   "outputs": [],
   "source": [
    "file_path = 'processed_datasetNew.csv'\n",
    "data = pd.read_csv(file_path)\n",
    "\n",
    "data = data.set_index('Date')\n",
    "data.index = pd.to_datetime(data.index)"
   ]
  },
  {
   "cell_type": "code",
   "execution_count": 4,
   "id": "e3b65603-fb2d-4c98-9a82-131a777f3884",
   "metadata": {},
   "outputs": [],
   "source": [
    "split_date = pd.to_datetime('2008-12-31 23:59')\n",
    "data = data[data.index >= split_date]"
   ]
  },
  {
   "cell_type": "code",
   "execution_count": 5,
   "id": "eeed8d76-933d-4b8e-8995-4709b3210827",
   "metadata": {},
   "outputs": [],
   "source": [
    "data[\"Temperature t+24\"] = data[\"Temperature\"].shift(periods=-24)\n",
    "data[\"Humidity t+24\"] = data[\"Humidity\"].shift(periods=-24)\n",
    "data[\"Month\"] = data.index.month\n",
    "data[\"Month_sin\"] = np.sin(2 * np.pi * data.index.month / 12)\n",
    "data[\"Month_cos\"] = np.cos(2 * np.pi * data.index.month / 12)\n",
    "data[\"Month t+24\"] = data[\"Month\"].shift(periods=-24)\n",
    "data[\"Month_sin t+24\"] = data[\"Month_sin\"].shift(periods=-24)\n",
    "data[\"Month_cos t+24\"] = data[\"Month_cos\"].shift(periods=-24)\n",
    "data[\"Quarter\"] = data.index.quarter\n",
    "data[\"Quarter_sin\"] = np.sin(2 * np.pi * data.index.quarter / 4)\n",
    "data[\"Quarter_cos\"] = np.cos(2 * np.pi * data.index.quarter / 4)\n",
    "data[\"Quarter t+24\"] = data[\"Quarter\"].shift(periods=-24)\n",
    "data[\"Quarter_sin t+24\"] = data[\"Quarter_sin\"].shift(periods=-24)\n",
    "data[\"Quarter_cos t+24\"] = data[\"Quarter_cos\"].shift(periods=-24)\n",
    "data[\"Year\"] = data.index.year\n",
    "data[\"Year t+24\"] = data[\"Year\"].shift(periods=-24)\n",
    "data['week_cos'] =  np.cos(2 * np.pi * data.index.isocalendar().week / 53)\n",
    "data['week_sin'] =  np.sin(2 * np.pi * data.index.isocalendar().week / 53)\n",
    "data[\"week_sin t+24\"] = data[\"week_sin\"].shift(periods=-24)\n",
    "data[\"week_cos t+24\"] = data[\"week_cos\"].shift(periods=-24)\n",
    "data['weekday_cos'] = np.sin(2 * np.pi * (data.index.weekday+1) / 7)\n",
    "data['weekday_sin'] = np.cos(2 * np.pi * (data.index.weekday+1) / 7)\n",
    "data[\"weekday_sin t+24\"] = data[\"weekday_sin\"].shift(periods=-24)\n",
    "data[\"weekday_cos t+24\"] = data[\"weekday_cos\"].shift(periods=-24)"
   ]
  },
  {
   "cell_type": "code",
   "execution_count": 6,
   "id": "ef5b4124-823b-4b09-9052-5170230f74e9",
   "metadata": {},
   "outputs": [],
   "source": [
    "features_options = [\n",
    "    [\"Temperature\", \"Humidity\"],\n",
    "    [\"Temperature\", \"Humidity\", \"Year\", \"Month\"],\n",
    "    [\"Temperature\", \"Humidity\", \"Year\", \"Month\", \"Month_cos\", \"Month_sin\"],\n",
    "    [\"Temperature\", \"Humidity\", \"Year\", \"Month\", \"Month_cos\", \"Month_sin\", \"weekday_cos\", \"weekday_sin\"],\n",
    "    [\"Temperature\", \"Humidity\", \"Temperature t+24\", \"Humidity t+24\"],\n",
    "    [\"Temperature\", \"Humidity\", \"Year\", \"Month\", \"Temperature t+24\", \"Humidity t+24\", \"Year t+24\", \"Month t+24\"],\n",
    "    [\"Temperature\", \"Humidity\", \"Year\", \"Month\", \"Month_cos\", \"Month_sin\", \"Temperature t+24\", \"Humidity t+24\", \"Year t+24\", \n",
    "    \"Month t+24\", \"Month_cos t+24\", \"Month_sin t+24\"],\n",
    "    [\"Temperature\", \"Humidity\", \"Year\", \"Month\", \"Month_cos\", \"Month_sin\", \"weekday_cos\", \"weekday_cos\", \"Temperature t+24\", \"Humidity t+24\",\n",
    "    \"Year t+24\", \"Month t+24\", \"Month_cos t+24\", \"Month_sin t+24\", \"weekday_cos t+24\", \"weekday_sin t+24\"],\n",
    "    [\"Temperature\", \"Humidity\", \"Year\", \"weekday_cos\", \"weekday_sin\", \"Month_cos\", \"Month_sin\"],\n",
    "    [\"Temperature\", \"Humidity\", \"Year\", \"weekday_cos\", \"weekday_sin\", \"Temperature t+24\", \"Humidity t+24\", \"Year t+24\", \"weekday_cos t+24\", \"weekday_sin t+24\"]\n",
    "]"
   ]
  },
  {
   "cell_type": "code",
   "execution_count": 7,
   "id": "dd7cfa8d-e64a-45d1-8d3c-86480fcc1b1b",
   "metadata": {},
   "outputs": [],
   "source": [
    "data_sin = data[['SIN']]\n",
    "data_cov = data[features_options[8]]"
   ]
  },
  {
   "cell_type": "code",
   "execution_count": 8,
   "id": "57b11165-f37a-4d4c-9eb0-53c86a501424",
   "metadata": {},
   "outputs": [],
   "source": [
    "series = TimeSeries.from_dataframe(data_sin, value_cols=[\"SIN\"])\n",
    "covariates = TimeSeries.from_dataframe(data_cov, value_cols=features_options[8])\n",
    "series = series.astype(np.float32)\n",
    "covariates = covariates.astype(np.float32)"
   ]
  },
  {
   "cell_type": "code",
   "execution_count": 9,
   "id": "f587ad4e-3de4-4cda-96a8-dccf5c752743",
   "metadata": {},
   "outputs": [],
   "source": [
    "# Add holiday binary value\n",
    "covariates = covariates.add_holidays('PY')"
   ]
  },
  {
   "cell_type": "code",
   "execution_count": 10,
   "id": "e1b64aab-e0f7-4565-bd24-6931068d4a78",
   "metadata": {},
   "outputs": [],
   "source": [
    "# # Create training and validation sets:\n",
    "training_cutoff = pd.Timestamp(\"20191231T230000\")\n",
    "train, val = series.split_after(training_cutoff)\n",
    "# validation_cutoff = pd.Timestamp(\"20211231T230000\")\n",
    "# val, test = val.split_after(validation_cutoff)"
   ]
  },
  {
   "cell_type": "code",
   "execution_count": 11,
   "id": "bd848d98-f633-49ed-b360-bcbca6c3c96f",
   "metadata": {},
   "outputs": [],
   "source": [
    "# Normalize the time series (note: we avoid fitting the transformer on the validation set)\n",
    "transformer = Scaler()\n",
    "train_transformed = transformer.fit_transform(train)\n",
    "val_transformed = transformer.transform(val)\n",
    "series_transformed = transformer.transform(series)"
   ]
  },
  {
   "cell_type": "code",
   "execution_count": 12,
   "id": "5918c9d8-8926-4ab7-8e23-149785aea0bd",
   "metadata": {},
   "outputs": [],
   "source": [
    "covariates = covariates.stack(\n",
    "    TimeSeries.from_times_and_values(\n",
    "        times=series.time_index,\n",
    "        values=np.arange(len(series)),\n",
    "        columns=[\"linear_increase\"],\n",
    "    )\n",
    ")\n",
    "covariates = covariates.astype(np.float32)\n",
    "cov_train, cov_val = covariates.split_after(training_cutoff)\n",
    "# cov_val, cov_test = covariates.split_after(validation_cutoff)"
   ]
  },
  {
   "cell_type": "code",
   "execution_count": 13,
   "id": "6610beeb-5f9f-45b5-9b18-c214af6312cf",
   "metadata": {},
   "outputs": [],
   "source": [
    "# transform covariates (note: we fit the transformer on train split and can then transform the entire covariates series)\n",
    "scaler_covs = Scaler()\n",
    "covariates_transformed_train = scaler_covs.fit_transform(cov_train)\n",
    "covariates_transformed_val = scaler_covs.transform(cov_val)\n",
    "covariates_transformed = scaler_covs.transform(covariates)"
   ]
  },
  {
   "cell_type": "code",
   "execution_count": 14,
   "id": "23e94457-50b6-47ff-8378-30245e74a6b3",
   "metadata": {},
   "outputs": [
    {
     "data": {
      "application/vnd.jupyter.widget-view+json": {
       "model_id": "",
       "version_major": 2,
       "version_minor": 0
      },
      "text/plain": [
       "Sanity Checking: 0it [00:00, ?it/s]"
      ]
     },
     "metadata": {},
     "output_type": "display_data"
    },
    {
     "data": {
      "application/vnd.jupyter.widget-view+json": {
       "model_id": "5e81163787794c178b0e1c26b34d82db",
       "version_major": 2,
       "version_minor": 0
      },
      "text/plain": [
       "Training: 0it [00:00, ?it/s]"
      ]
     },
     "metadata": {},
     "output_type": "display_data"
    },
    {
     "data": {
      "application/vnd.jupyter.widget-view+json": {
       "model_id": "",
       "version_major": 2,
       "version_minor": 0
      },
      "text/plain": [
       "Validation: 0it [00:00, ?it/s]"
      ]
     },
     "metadata": {},
     "output_type": "display_data"
    },
    {
     "data": {
      "application/vnd.jupyter.widget-view+json": {
       "model_id": "",
       "version_major": 2,
       "version_minor": 0
      },
      "text/plain": [
       "Validation: 0it [00:00, ?it/s]"
      ]
     },
     "metadata": {},
     "output_type": "display_data"
    },
    {
     "data": {
      "application/vnd.jupyter.widget-view+json": {
       "model_id": "",
       "version_major": 2,
       "version_minor": 0
      },
      "text/plain": [
       "Validation: 0it [00:00, ?it/s]"
      ]
     },
     "metadata": {},
     "output_type": "display_data"
    },
    {
     "data": {
      "application/vnd.jupyter.widget-view+json": {
       "model_id": "",
       "version_major": 2,
       "version_minor": 0
      },
      "text/plain": [
       "Validation: 0it [00:00, ?it/s]"
      ]
     },
     "metadata": {},
     "output_type": "display_data"
    },
    {
     "data": {
      "application/vnd.jupyter.widget-view+json": {
       "model_id": "",
       "version_major": 2,
       "version_minor": 0
      },
      "text/plain": [
       "Validation: 0it [00:00, ?it/s]"
      ]
     },
     "metadata": {},
     "output_type": "display_data"
    },
    {
     "data": {
      "application/vnd.jupyter.widget-view+json": {
       "model_id": "",
       "version_major": 2,
       "version_minor": 0
      },
      "text/plain": [
       "Validation: 0it [00:00, ?it/s]"
      ]
     },
     "metadata": {},
     "output_type": "display_data"
    }
   ],
   "source": [
    "from darts.models import TFTModel, ARIMA, RNNModel\n",
    "from pytorch_lightning.callbacks import EarlyStopping\n",
    "from torchmetrics import MeanAbsolutePercentageError\n",
    "\n",
    "torch_metrics = MeanAbsolutePercentageError()\n",
    "torch.manual_seed(42)\n",
    "\n",
    "# early stop callback\n",
    "my_stopper = EarlyStopping(\n",
    "    monitor=\"val_MeanAbsolutePercentageError\", # \"train_loss\"\n",
    "    patience=2,\n",
    "    min_delta=0.0001,\n",
    "    mode='min',\n",
    ")\n",
    "pl_trainer_kwargs={\n",
    "      \"accelerator\": \"gpu\",\n",
    "      \"devices\": [0],\n",
    "      \"callbacks\": [my_stopper]\n",
    "}\n",
    "\n",
    "tft = TFTModel(\n",
    "    input_chunk_length=19*24,\n",
    "    output_chunk_length=1*24,\n",
    "    hidden_size=46,\n",
    "    lstm_layers=1,\n",
    "    num_attention_heads=3,\n",
    "    dropout=0.3505077873908772,\n",
    "    batch_size=24,\n",
    "    n_epochs=6,\n",
    "    add_relative_index=False,\n",
    "    add_encoders=None,\n",
    "    # loss_fn=MSELoss(),\n",
    "    random_state=42,\n",
    "    force_reset = True,\n",
    "    save_checkpoints=True,\n",
    "    torch_metrics=torch_metrics,\n",
    "    model_name=\"tft_best_model_07\",\n",
    "    pl_trainer_kwargs=pl_trainer_kwargs,\n",
    ")\n",
    "tft.fit(series=train_transformed, val_series=val_transformed, future_covariates=covariates_transformed, val_future_covariates=covariates_transformed_val, num_loader_workers=2, verbose=True)\n",
    "tft = TFTModel.load_from_checkpoint(\"tft_best_model_07\")"
   ]
  },
  {
   "cell_type": "code",
   "execution_count": 15,
   "id": "30375321-00d3-4833-baf1-802a8c69a6f3",
   "metadata": {},
   "outputs": [],
   "source": [
    "# Save the trained TFT model\n",
    "tft_model_path = \"tft_best_model_07.pt\"\n",
    "tft.save(tft_model_path)"
   ]
  },
  {
   "cell_type": "code",
   "execution_count": 16,
   "id": "bba39a04-b0a5-47a7-adb7-dd74ede19d27",
   "metadata": {},
   "outputs": [
    {
     "data": {
      "application/vnd.jupyter.widget-view+json": {
       "model_id": "eede3ade88e84a4a8f38fefc414519ce",
       "version_major": 2,
       "version_minor": 0
      },
      "text/plain": [
       "Predicting: 0it [00:00, ?it/s]"
      ]
     },
     "metadata": {},
     "output_type": "display_data"
    }
   ],
   "source": [
    "n = len(val)  # Get the length of the validation dataset\n",
    "tft_pred_val = tft.predict(n=n, future_covariates=covariates_transformed)\n",
    "tft_pred_val = transformer.inverse_transform(tft_pred_val)"
   ]
  },
  {
   "cell_type": "code",
   "execution_count": 17,
   "id": "10757437-2bbf-43fb-8229-e9d2ad08c29f",
   "metadata": {},
   "outputs": [],
   "source": [
    "validation_range = ('2020-01-01', '2022-12-31')\n",
    "dtin = pd.date_range(start=validation_range[0], end=validation_range[1], freq='H')"
   ]
  },
  {
   "cell_type": "code",
   "execution_count": 18,
   "id": "1761dfdd-c05a-4526-bfaa-43eb2108d038",
   "metadata": {},
   "outputs": [],
   "source": [
    "# Convert TimeSeries to numpy arrays\n",
    "tft_pred_val_arr = tft_pred_val.values()\n",
    "val_arr = val.values()"
   ]
  },
  {
   "cell_type": "code",
   "execution_count": 19,
   "id": "c5b2fac9-f49e-4d1c-abf7-0d7635556113",
   "metadata": {},
   "outputs": [
    {
     "name": "stdout",
     "output_type": "stream",
     "text": [
      "MSE: 76757.93 RMSE:277.05222\n",
      "MaxError: 1728.8015 R2:0.7351228353919513 Error95:571.5169189453125\n",
      "hsup: 0.15322113782167432 hinf:-0.3142427131533623\n",
      "hmaxerr5: 13.466876220703128\n",
      "hmaxerr50: 153.69342041015625\n",
      "hmaxerr95: 571.5169189453125\n"
     ]
    }
   ],
   "source": [
    "from sklearn.metrics import r2_score, mean_absolute_error, mean_squared_error, mean_absolute_percentage_error,max_error\n",
    "\n",
    "ixmax=np.argmax(val_arr.reshape(-1,24),axis=1)\n",
    "hmaxerr=((tft_pred_val_arr.reshape(-1,24)[np.arange(tft_pred_val_arr.reshape(-1,24).shape[0]),ixmax]-np.max(val_arr.reshape(-1,24),axis=1))/np.max(val_arr.reshape(-1,24),axis=1))\n",
    "hsup=np.percentile(hmaxerr,99)\n",
    "hinf=np.percentile(hmaxerr,1)\n",
    "mse=mean_squared_error( val_arr, tft_pred_val_arr)\n",
    "rmse=np.sqrt(mse)\n",
    "error=np.abs(val_arr-tft_pred_val_arr)\n",
    "Error_95_=np.percentile(error,95)\n",
    "maxError_=max_error(val_arr, tft_pred_val_arr)\n",
    "\n",
    "r2_=r2_score(val_arr, tft_pred_val_arr)\n",
    "print( \"MSE: \" + str(mse)+\" RMSE:\" + str(rmse  ))\n",
    "print( \"MaxError: \" + str(maxError_)+\" R2:\" + str(r2_  )+\" Error95:\" + str(Error_95_))\n",
    "print( \"hsup: \" + str(hsup)+\" hinf:\" + str(hinf))\n",
    "print( \"hmaxerr5: \" + str(np.percentile(error,5)))\n",
    "print( \"hmaxerr50: \" + str(np.percentile(error,50)))\n",
    "print( \"hmaxerr95: \" + str(np.percentile(error,95)))"
   ]
  }
 ],
 "metadata": {
  "kernelspec": {
   "display_name": "Python 3 (ipykernel)",
   "language": "python",
   "name": "python3"
  },
  "language_info": {
   "codemirror_mode": {
    "name": "ipython",
    "version": 3
   },
   "file_extension": ".py",
   "mimetype": "text/x-python",
   "name": "python",
   "nbconvert_exporter": "python",
   "pygments_lexer": "ipython3",
   "version": "3.11.4"
  }
 },
 "nbformat": 4,
 "nbformat_minor": 5
}
